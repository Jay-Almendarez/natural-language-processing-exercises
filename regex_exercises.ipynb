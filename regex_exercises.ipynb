{
 "cells": [
  {
   "cell_type": "markdown",
   "id": "276fa438-1c3f-4355-8e27-491ee94ca7e1",
   "metadata": {},
   "source": [
    "# Exercises"
   ]
  },
  {
   "cell_type": "code",
   "execution_count": 2,
   "id": "5967bc83-65ab-439c-91f4-07ecbf24b020",
   "metadata": {
    "tags": []
   },
   "outputs": [],
   "source": [
    "import pandas as pd\n",
    "import re # part of the python stdlib"
   ]
  },
  {
   "cell_type": "markdown",
   "id": "401a3e7b-15de-4ce6-80e5-869b8106dee9",
   "metadata": {},
   "source": [
    "## Write a function named is_vowel. It should accept a string as input and use a regular expression to determine if the passed string is a vowel. While not explicity mentioned in the lesson, you can treat the result of re.search as a boolean value that indicates whether or not the regular expression matches the given string."
   ]
  },
  {
   "cell_type": "code",
   "execution_count": 105,
   "id": "4d0bf19b-aea5-403a-bd7d-b63e63ad9d57",
   "metadata": {
    "tags": []
   },
   "outputs": [],
   "source": [
    "def is_vowel(subject):\n",
    "    regexp = r'[AIEOUaeiou]{1}'\n",
    "    result = re.search(regexp, subject)\n",
    "    return result != None"
   ]
  },
  {
   "cell_type": "code",
   "execution_count": 106,
   "id": "341e7135-c377-4ae9-be2c-4cde6447bf6e",
   "metadata": {
    "tags": []
   },
   "outputs": [
    {
     "data": {
      "text/plain": [
       "True"
      ]
     },
     "execution_count": 106,
     "metadata": {},
     "output_type": "execute_result"
    }
   ],
   "source": [
    "is_vowel('a')"
   ]
  },
  {
   "cell_type": "code",
   "execution_count": 107,
   "id": "5033bb2a-4179-41a5-8d8a-992c10543ee1",
   "metadata": {
    "tags": []
   },
   "outputs": [
    {
     "data": {
      "text/plain": [
       "False"
      ]
     },
     "execution_count": 107,
     "metadata": {},
     "output_type": "execute_result"
    }
   ],
   "source": [
    "is_vowel('b')"
   ]
  },
  {
   "cell_type": "markdown",
   "id": "3aa40e15-8e76-44a8-a1dc-ce034fbfabee",
   "metadata": {},
   "source": [
    "## Write a function named is_valid_username that accepts a string as input. A valid username starts with a lowercase letter, and only consists of lowercase letters, numbers, or the _ character. It should also be no longer than 32 characters. The function should return either True or False depending on whether the passed string is a valid username.\n",
    "\n",
    " - is_valid_username('aaaaaaaaaaaaaaaaaaaaaaaaaaaaaaaaa')\n",
    "\n",
    "   - False\n",
    "\n",
    " - is_valid_username('codeup')\n",
    "\n",
    "   - True\n",
    "\n",
    " - is_valid_username('Codeup')\n",
    "\n",
    "   - False\n",
    "\n",
    " - is_valid_username('codeup123')\n",
    "\n",
    "   - True\n",
    "\n",
    " - is_valid_username('1codeup')\n",
    "\n",
    "   - False"
   ]
  },
  {
   "cell_type": "code",
   "execution_count": 208,
   "id": "70c45b64-be84-4165-b70b-7ecb8f197975",
   "metadata": {
    "tags": []
   },
   "outputs": [],
   "source": [
    "def is_valid_username(subject):\n",
    "    regexp = r'^[a-z][^\\s]{2,31}?[1234567890_]'\n",
    "    result = re.search(regexp, subject)\n",
    "    return result != None"
   ]
  },
  {
   "cell_type": "code",
   "execution_count": 209,
   "id": "16bda312-6cee-494d-a934-c661cf021e98",
   "metadata": {
    "tags": []
   },
   "outputs": [
    {
     "data": {
      "text/plain": [
       "False"
      ]
     },
     "execution_count": 209,
     "metadata": {},
     "output_type": "execute_result"
    }
   ],
   "source": [
    "is_valid_username('aaaaaaaaaaaaaaaaaaaaaaaaaaaaaaaaa')"
   ]
  },
  {
   "cell_type": "code",
   "execution_count": 210,
   "id": "d7aff7e7-6f3f-4c0f-82fa-651b8fbeb103",
   "metadata": {
    "tags": []
   },
   "outputs": [
    {
     "data": {
      "text/plain": [
       "False"
      ]
     },
     "execution_count": 210,
     "metadata": {},
     "output_type": "execute_result"
    }
   ],
   "source": [
    "is_valid_username('codeup')"
   ]
  },
  {
   "cell_type": "code",
   "execution_count": 211,
   "id": "dfed4ac9-6957-4473-b42e-f46c5b999794",
   "metadata": {
    "tags": []
   },
   "outputs": [
    {
     "data": {
      "text/plain": [
       "False"
      ]
     },
     "execution_count": 211,
     "metadata": {},
     "output_type": "execute_result"
    }
   ],
   "source": [
    "is_valid_username('Codeup')"
   ]
  },
  {
   "cell_type": "code",
   "execution_count": 212,
   "id": "11e1672a-fef3-47eb-8fa5-b4cd49b72db2",
   "metadata": {
    "tags": []
   },
   "outputs": [
    {
     "data": {
      "text/plain": [
       "True"
      ]
     },
     "execution_count": 212,
     "metadata": {},
     "output_type": "execute_result"
    }
   ],
   "source": [
    "is_valid_username('codeup123')"
   ]
  },
  {
   "cell_type": "code",
   "execution_count": 213,
   "id": "9a171c40-7232-402f-8149-de64d1e33ed8",
   "metadata": {
    "tags": []
   },
   "outputs": [
    {
     "data": {
      "text/plain": [
       "False"
      ]
     },
     "execution_count": 213,
     "metadata": {},
     "output_type": "execute_result"
    }
   ],
   "source": [
    "is_valid_username('1codeup')"
   ]
  },
  {
   "cell_type": "markdown",
   "id": "f4a74479-112c-458e-97c6-411b3a402ec8",
   "metadata": {},
   "source": [
    "## Write a regular expression to capture phone numbers. It should match all of the following:\n",
    "\n",
    "- (210) 867 5309\n",
    "- +1 210.867.5309\n",
    "- 867-5309\n",
    "- 210-867-5309"
   ]
  },
  {
   "cell_type": "code",
   "execution_count": 214,
   "id": "3c51cd9c-725f-405c-9796-5ef2ddf512b5",
   "metadata": {
    "tags": []
   },
   "outputs": [],
   "source": [
    "phone_num = pd.Series(['(210) 867 5309', '+1 210.867.5309', '867-5309', '210-867-5309'])"
   ]
  },
  {
   "cell_type": "code",
   "execution_count": 397,
   "id": "6dd213fe-e997-4aa1-a3a3-1c5a801cff55",
   "metadata": {
    "tags": []
   },
   "outputs": [],
   "source": [
    "subject = '(210) 867 5309'"
   ]
  },
  {
   "cell_type": "code",
   "execution_count": 401,
   "id": "1026e4ea-a7ab-4602-b9e0-5f6430245856",
   "metadata": {
    "tags": []
   },
   "outputs": [],
   "source": [
    "subject = '+1 210.867.5309'"
   ]
  },
  {
   "cell_type": "code",
   "execution_count": 403,
   "id": "a3675150-a72a-4775-be2d-33455db86a1d",
   "metadata": {
    "tags": []
   },
   "outputs": [],
   "source": [
    "subject = '867-5309'"
   ]
  },
  {
   "cell_type": "code",
   "execution_count": 406,
   "id": "4627f54c-0a73-45b3-90bd-7be2e8787288",
   "metadata": {
    "tags": []
   },
   "outputs": [],
   "source": [
    "subject = '210-867-5309'"
   ]
  },
  {
   "cell_type": "code",
   "execution_count": 408,
   "id": "d94086ef-8499-484a-ab73-6b99ce491b21",
   "metadata": {
    "tags": []
   },
   "outputs": [
    {
     "data": {
      "text/plain": [
       "[('210', '867', '5309')]"
      ]
     },
     "execution_count": 408,
     "metadata": {},
     "output_type": "execute_result"
    }
   ],
   "source": [
    "regexp = r'(\\d{3}).(\\d{3}).(\\d{4})'\n",
    "re.findall(regexp, subject)"
   ]
  },
  {
   "cell_type": "code",
   "execution_count": 294,
   "id": "9110b8c5-3773-454c-be74-fb9cb9a16210",
   "metadata": {
    "tags": []
   },
   "outputs": [],
   "source": [
    "regexp = r'(\\d{3}).(\\d{4})'"
   ]
  },
  {
   "cell_type": "code",
   "execution_count": 393,
   "id": "9756945b-abba-40d3-973c-495710f22649",
   "metadata": {
    "tags": []
   },
   "outputs": [
    {
     "data": {
      "text/plain": [
       "0    (210) 867 5309\n",
       "1       +1 867-5309\n",
       "2          867-5309\n",
       "3          867-5309\n",
       "dtype: object"
      ]
     },
     "execution_count": 393,
     "metadata": {},
     "output_type": "execute_result"
    }
   ],
   "source": [
    "phone_num.str.replace(regexp, r'\\2-\\3', regex=True)"
   ]
  },
  {
   "cell_type": "markdown",
   "id": "89de8574-2575-48d9-b4f6-196ba593c0fe",
   "metadata": {},
   "source": [
    "## Use regular expressions to convert the dates below to the standardized year-month-day format.\n",
    "\n",
    "- 02/04/19\n",
    "- 02/05/19\n",
    "- 02/06/19\n",
    "- 02/07/19\n",
    "- 02/08/19\n",
    "- 02/09/19\n",
    "- 02/10/19"
   ]
  },
  {
   "cell_type": "code",
   "execution_count": 409,
   "id": "0465c51f-2461-4f36-b40a-53ef205c7474",
   "metadata": {
    "tags": []
   },
   "outputs": [],
   "source": [
    "dates = pd.Series(['02/04/19', '02/05/19', '02/06/19', '02/07/19', '02/08/19', '02/09/19', '02/10/19'])"
   ]
  },
  {
   "cell_type": "code",
   "execution_count": 412,
   "id": "09b5ac61-da15-49c9-96f5-d399d1067780",
   "metadata": {
    "tags": []
   },
   "outputs": [
    {
     "data": {
      "text/plain": [
       "0    2019-04-02\n",
       "1    2019-05-02\n",
       "2    2019-06-02\n",
       "3    2019-07-02\n",
       "4    2019-08-02\n",
       "5    2019-09-02\n",
       "6    2019-10-02\n",
       "dtype: object"
      ]
     },
     "execution_count": 412,
     "metadata": {},
     "output_type": "execute_result"
    }
   ],
   "source": [
    "regexp = r'(\\d{2}).(\\d{2}).(\\d{2})'\n",
    "dates.str.replace(regexp, r'20\\3-\\2-\\1', regex=True)"
   ]
  },
  {
   "cell_type": "markdown",
   "id": "fadbc796-01a7-4fa2-b6e2-6f2aba9ae53a",
   "metadata": {},
   "source": [
    "## Write a regex to extract the various parts of these logfile lines:\n",
    "\n",
    "\n",
    "- GET /api/v1/sales?page=86 [16/Apr/2019:193452+0000] HTTP/1.1 {200} 510348 \"python-requests/2.21.0\" 97.105.19.58\n",
    "- POST /users_accounts/file-upload [16/Apr/2019:193452+0000] HTTP/1.1 {201} 42 \"User-Agent: Mozilla/5.0 (X11; Fedora; Fedora; Linux x86_64) AppleWebKit/537.36 (KHTML, like Gecko) Chrome/73.0.3683.86 Safari/537.36\" 97.105.19.58\n",
    "- GET /api/v1/items?page=3 [16/Apr/2019:193453+0000] HTTP/1.1 {429} 3561 \"python-requests/2.21.0\" 97.105.19.58"
   ]
  },
  {
   "cell_type": "code",
   "execution_count": 458,
   "id": "805498a1-c7e1-4170-9380-1b2f44b98b69",
   "metadata": {
    "tags": []
   },
   "outputs": [],
   "source": [
    "logs = '''\n",
    "GET /api/v1/sales?page=86 [16/Apr/2019:193452+0000] HTTP/1.1 {200} 510348 \"python-requests/2.21.0\" 97.105.19.58\n",
    "POST /users_accounts/file-upload [16/Apr/2019:193452+0000] HTTP/1.1 {201} 42 \"User-Agent: Mozilla/5.0 (X11; Fedora; Fedora; Linux x86_64) AppleWebKit/537.36 (KHTML, like Gecko) Chrome/73.0.3683.86 Safari/537.36\" 97.105.19.58\n",
    "GET /api/v1/items?page=3 [16/Apr/2019:193453+0000] HTTP/1.1 {429} 3561 \"python-requests/2.21.0\" 97.105.19.58\n",
    "'''"
   ]
  },
  {
   "cell_type": "code",
   "execution_count": 459,
   "id": "b2e76c9c-72e6-45fb-aaef-e5b7523b28d1",
   "metadata": {},
   "outputs": [],
   "source": [
    "regex = r'(?P<method>[A-Z]+)\\s(?P<path>.*?)\\s.*?\\[(?P<timestamp>.*?)\\]\\s(?P<http>.*?)\\s{(?P<server_code>.*?)\\}\\s(?P<size>.*?)\\s\"(?P<user>.*?)\"\\s(?P<ip>.*?)'"
   ]
  },
  {
   "cell_type": "code",
   "execution_count": 460,
   "id": "789ed911-ff61-4351-859f-a436fae9e9ac",
   "metadata": {
    "tags": []
   },
   "outputs": [],
   "source": [
    "regex = re.compile(regex,re.VERBOSE)"
   ]
  },
  {
   "cell_type": "code",
   "execution_count": 461,
   "id": "dfc46ec5-12f6-4a90-9a17-bf98c4f3f9ca",
   "metadata": {
    "tags": []
   },
   "outputs": [],
   "source": [
    "lines = pd.Series(logs.strip().split('\\n'))"
   ]
  },
  {
   "cell_type": "code",
   "execution_count": 462,
   "id": "4e499cf7-9245-4571-be98-7a54bc93da3f",
   "metadata": {
    "tags": []
   },
   "outputs": [
    {
     "data": {
      "text/html": [
       "<div>\n",
       "<style scoped>\n",
       "    .dataframe tbody tr th:only-of-type {\n",
       "        vertical-align: middle;\n",
       "    }\n",
       "\n",
       "    .dataframe tbody tr th {\n",
       "        vertical-align: top;\n",
       "    }\n",
       "\n",
       "    .dataframe thead th {\n",
       "        text-align: right;\n",
       "    }\n",
       "</style>\n",
       "<table border=\"1\" class=\"dataframe\">\n",
       "  <thead>\n",
       "    <tr style=\"text-align: right;\">\n",
       "      <th></th>\n",
       "      <th>method</th>\n",
       "      <th>path</th>\n",
       "      <th>timestamp</th>\n",
       "      <th>http</th>\n",
       "      <th>server_code</th>\n",
       "      <th>size</th>\n",
       "      <th>user</th>\n",
       "      <th>ip</th>\n",
       "    </tr>\n",
       "  </thead>\n",
       "  <tbody>\n",
       "    <tr>\n",
       "      <th>0</th>\n",
       "      <td>GET</td>\n",
       "      <td>/api/v1/sales?page=86</td>\n",
       "      <td>16/Apr/2019:193452+0000</td>\n",
       "      <td>HTTP/1.1</td>\n",
       "      <td>200</td>\n",
       "      <td>510348</td>\n",
       "      <td>python-requests/2.21.0</td>\n",
       "      <td></td>\n",
       "    </tr>\n",
       "    <tr>\n",
       "      <th>1</th>\n",
       "      <td>POST</td>\n",
       "      <td>/users_accounts/file-upload</td>\n",
       "      <td>16/Apr/2019:193452+0000</td>\n",
       "      <td>HTTP/1.1</td>\n",
       "      <td>201</td>\n",
       "      <td>42</td>\n",
       "      <td>User-Agent: Mozilla/5.0 (X11; Fedora; Fedora; ...</td>\n",
       "      <td></td>\n",
       "    </tr>\n",
       "    <tr>\n",
       "      <th>2</th>\n",
       "      <td>GET</td>\n",
       "      <td>/api/v1/items?page=3</td>\n",
       "      <td>16/Apr/2019:193453+0000</td>\n",
       "      <td>HTTP/1.1</td>\n",
       "      <td>429</td>\n",
       "      <td>3561</td>\n",
       "      <td>python-requests/2.21.0</td>\n",
       "      <td></td>\n",
       "    </tr>\n",
       "  </tbody>\n",
       "</table>\n",
       "</div>"
      ],
      "text/plain": [
       "  method                         path                timestamp      http  \\\n",
       "0    GET        /api/v1/sales?page=86  16/Apr/2019:193452+0000  HTTP/1.1   \n",
       "1   POST  /users_accounts/file-upload  16/Apr/2019:193452+0000  HTTP/1.1   \n",
       "2    GET         /api/v1/items?page=3  16/Apr/2019:193453+0000  HTTP/1.1   \n",
       "\n",
       "  server_code    size                                               user ip  \n",
       "0         200  510348                             python-requests/2.21.0     \n",
       "1         201      42  User-Agent: Mozilla/5.0 (X11; Fedora; Fedora; ...     \n",
       "2         429    3561                             python-requests/2.21.0     "
      ]
     },
     "execution_count": 462,
     "metadata": {},
     "output_type": "execute_result"
    }
   ],
   "source": [
    "lines.str.extract(regex)"
   ]
  }
 ],
 "metadata": {
  "kernelspec": {
   "display_name": "Python 3 (ipykernel)",
   "language": "python",
   "name": "python3"
  },
  "language_info": {
   "codemirror_mode": {
    "name": "ipython",
    "version": 3
   },
   "file_extension": ".py",
   "mimetype": "text/x-python",
   "name": "python",
   "nbconvert_exporter": "python",
   "pygments_lexer": "ipython3",
   "version": "3.11.3"
  }
 },
 "nbformat": 4,
 "nbformat_minor": 5
}
