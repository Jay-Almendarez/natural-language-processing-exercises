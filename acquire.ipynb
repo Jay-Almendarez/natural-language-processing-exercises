{
 "cells": [
  {
   "cell_type": "markdown",
   "id": "7538b6f6-c177-43f0-baf2-aea2efb17764",
   "metadata": {},
   "source": [
    "# Exercises"
   ]
  },
  {
   "cell_type": "code",
   "execution_count": 1,
   "id": "ec1ecf4f-0d09-4fa9-b9c9-f317913091bd",
   "metadata": {
    "tags": []
   },
   "outputs": [],
   "source": [
    "# imports\n",
    "import requests\n",
    "from bs4 import BeautifulSoup\n",
    "import pandas as pd"
   ]
  },
  {
   "cell_type": "markdown",
   "id": "8e5e6637-8bc0-49b3-92bd-1bd357c45cdb",
   "metadata": {},
   "source": [
    "## Codeup Blog Articles"
   ]
  },
  {
   "cell_type": "markdown",
   "id": "39120fcf-2532-42f5-98d8-855e26b114db",
   "metadata": {},
   "source": [
    "### Visit Codeup's Blog and record the urls for at least 5 distinct blog posts. For each post, you should scrape at least the post's title and content."
   ]
  },
  {
   "cell_type": "markdown",
   "id": "b8730e18-6bd8-42bb-9915-97baeb5fc50a",
   "metadata": {},
   "source": [
    "### Encapsulate your work in a function named get_blog_articles that will return a list of dictionaries, with each dictionary representing one article. The shape of each dictionary should look like this:\n",
    "\n",
    "'title': 'the title of the article',\n",
    "\n",
    "'content': 'the full text content of the article'"
   ]
  },
  {
   "cell_type": "code",
   "execution_count": 2,
   "id": "c4fe1036-04e3-4a19-ac2b-e7e15e0159c0",
   "metadata": {},
   "outputs": [],
   "source": [
    "soup = BeautifulSoup((requests.get('https://codeup.edu/blog/', \n",
    "                                   headers = {'User-Agent': \"Mozilla/5.0 (Windows NT 10.0; rv:91.0) Gecko/20100101 Firefox/91.0\"})).text, 'html.parser')"
   ]
  },
  {
   "cell_type": "code",
   "execution_count": 3,
   "id": "8aa7040d-7f73-40dd-9faf-7f656726a8b1",
   "metadata": {
    "tags": []
   },
   "outputs": [
    {
     "data": {
      "text/plain": [
       "[<a class=\"more-link\" href=\"https://codeup.edu/featured/apida-heritage-month/\">read more</a>,\n",
       " <a class=\"more-link\" href=\"https://codeup.edu/featured/women-in-tech-panelist-spotlight/\">read more</a>,\n",
       " <a class=\"more-link\" href=\"https://codeup.edu/featured/women-in-tech-rachel-robbins-mayhill/\">read more</a>,\n",
       " <a class=\"more-link\" href=\"https://codeup.edu/codeup-news/women-in-tech-panelist-spotlight-sarah-mellor/\">read more</a>,\n",
       " <a class=\"more-link\" href=\"https://codeup.edu/events/women-in-tech-madeleine/\">read more</a>,\n",
       " <a class=\"more-link\" href=\"https://codeup.edu/codeup-news/panelist-spotlight-4/\">read more</a>]"
      ]
     },
     "execution_count": 3,
     "metadata": {},
     "output_type": "execute_result"
    }
   ],
   "source": [
    "soup.select('.more-link')"
   ]
  },
  {
   "cell_type": "code",
   "execution_count": 4,
   "id": "deed2777-0f89-4fe4-b74b-bb51d10bc466",
   "metadata": {
    "tags": []
   },
   "outputs": [
    {
     "data": {
      "text/plain": [
       "['https://codeup.edu/featured/apida-heritage-month/',\n",
       " 'https://codeup.edu/featured/women-in-tech-panelist-spotlight/',\n",
       " 'https://codeup.edu/featured/women-in-tech-rachel-robbins-mayhill/',\n",
       " 'https://codeup.edu/codeup-news/women-in-tech-panelist-spotlight-sarah-mellor/',\n",
       " 'https://codeup.edu/events/women-in-tech-madeleine/',\n",
       " 'https://codeup.edu/codeup-news/panelist-spotlight-4/']"
      ]
     },
     "execution_count": 4,
     "metadata": {},
     "output_type": "execute_result"
    }
   ],
   "source": [
    "blog_links = [element['href'] for element in soup.find_all('a', class_='more-link')]\n",
    "blog_links"
   ]
  },
  {
   "cell_type": "code",
   "execution_count": 10,
   "id": "b9ccbdab-5ec5-4236-a527-613f931cb77e",
   "metadata": {
    "tags": []
   },
   "outputs": [],
   "source": [
    "# no touchy\n",
    "soup = BeautifulSoup((requests.get('https://codeup.edu/blog/', \n",
    "                                   headers = {'User-Agent': \"Mozilla/5.0 (Windows NT 10.0; rv:91.0) Gecko/20100101 Firefox/91.0\"})).text, 'html.parser')\n",
    "blog_links = [element['href'] for element in soup.find_all('a', class_='more-link')]\n",
    "def get_blog_articles():\n",
    "    all_blogs = []\n",
    "    for link in blog_links:\n",
    "        soup = BeautifulSoup((requests.get(link, \n",
    "                            headers = {'User-Agent': \"Mozilla/5.0 (Windows NT 10.0; rv:91.0) Gecko/20100101 Firefox/91.0\"})).text, 'html.parser')\n",
    "        title = soup.find('h1', class_='entry-title').text\n",
    "        body = soup.find('div', class_='entry-content').text.strip().replace('\\n', ' ')\n",
    "        row = {'title': title, 'article': body}\n",
    "        all_blogs.append(row)\n",
    "    return pd.DataFrame(all_blogs)"
   ]
  },
  {
   "cell_type": "code",
   "execution_count": 11,
   "id": "49d3ab1b-356a-40e3-88b2-a954d102ae93",
   "metadata": {
    "tags": []
   },
   "outputs": [
    {
     "data": {
      "text/html": [
       "<div>\n",
       "<style scoped>\n",
       "    .dataframe tbody tr th:only-of-type {\n",
       "        vertical-align: middle;\n",
       "    }\n",
       "\n",
       "    .dataframe tbody tr th {\n",
       "        vertical-align: top;\n",
       "    }\n",
       "\n",
       "    .dataframe thead th {\n",
       "        text-align: right;\n",
       "    }\n",
       "</style>\n",
       "<table border=\"1\" class=\"dataframe\">\n",
       "  <thead>\n",
       "    <tr style=\"text-align: right;\">\n",
       "      <th></th>\n",
       "      <th>title</th>\n",
       "      <th>article</th>\n",
       "    </tr>\n",
       "  </thead>\n",
       "  <tbody>\n",
       "    <tr>\n",
       "      <th>0</th>\n",
       "      <td>Spotlight on APIDA Voices: Celebrating Heritag...</td>\n",
       "      <td>May is traditionally known as Asian American a...</td>\n",
       "    </tr>\n",
       "    <tr>\n",
       "      <th>1</th>\n",
       "      <td>Women in tech: Panelist Spotlight – Magdalena ...</td>\n",
       "      <td>Women in tech: Panelist Spotlight – Magdalena ...</td>\n",
       "    </tr>\n",
       "    <tr>\n",
       "      <th>2</th>\n",
       "      <td>Women in tech: Panelist Spotlight – Rachel Rob...</td>\n",
       "      <td>Women in tech: Panelist Spotlight – Rachel Rob...</td>\n",
       "    </tr>\n",
       "    <tr>\n",
       "      <th>3</th>\n",
       "      <td>Women in Tech: Panelist Spotlight – Sarah Mellor</td>\n",
       "      <td>Women in tech: Panelist Spotlight – Sarah Mell...</td>\n",
       "    </tr>\n",
       "    <tr>\n",
       "      <th>4</th>\n",
       "      <td>Women in Tech: Panelist Spotlight – Madeleine ...</td>\n",
       "      <td>Women in tech: Panelist Spotlight – Madeleine ...</td>\n",
       "    </tr>\n",
       "    <tr>\n",
       "      <th>5</th>\n",
       "      <td>Black Excellence in Tech: Panelist Spotlight –...</td>\n",
       "      <td>Black excellence in tech: Panelist Spotlight –...</td>\n",
       "    </tr>\n",
       "  </tbody>\n",
       "</table>\n",
       "</div>"
      ],
      "text/plain": [
       "                                               title  \\\n",
       "0  Spotlight on APIDA Voices: Celebrating Heritag...   \n",
       "1  Women in tech: Panelist Spotlight – Magdalena ...   \n",
       "2  Women in tech: Panelist Spotlight – Rachel Rob...   \n",
       "3   Women in Tech: Panelist Spotlight – Sarah Mellor   \n",
       "4  Women in Tech: Panelist Spotlight – Madeleine ...   \n",
       "5  Black Excellence in Tech: Panelist Spotlight –...   \n",
       "\n",
       "                                             article  \n",
       "0  May is traditionally known as Asian American a...  \n",
       "1  Women in tech: Panelist Spotlight – Magdalena ...  \n",
       "2  Women in tech: Panelist Spotlight – Rachel Rob...  \n",
       "3  Women in tech: Panelist Spotlight – Sarah Mell...  \n",
       "4  Women in tech: Panelist Spotlight – Madeleine ...  \n",
       "5  Black excellence in tech: Panelist Spotlight –...  "
      ]
     },
     "execution_count": 11,
     "metadata": {},
     "output_type": "execute_result"
    }
   ],
   "source": [
    "articles = get_blog_articles()\n",
    "articles"
   ]
  },
  {
   "cell_type": "markdown",
   "id": "a0b0d0ae-7d97-4df8-8c84-d48558bb2d90",
   "metadata": {},
   "source": [
    "## News Articles"
   ]
  },
  {
   "cell_type": "markdown",
   "id": "06c4e492-0ae6-4dc9-92db-924b63425cce",
   "metadata": {},
   "source": [
    "### We will now be scraping text data from inshorts, a website that provides a brief overview of many different topics.\n",
    "\n",
    "### Write a function that scrapes the news articles for the following topics:\n",
    "- Business\n",
    "- Sports\n",
    "- Technology\n",
    "- Entertainment"
   ]
  },
  {
   "cell_type": "markdown",
   "id": "f33dba7c-99c9-455a-8345-cab6cec3c953",
   "metadata": {},
   "source": [
    "### The end product of this should be a function named get_news_articles that returns a list of dictionaries, where each dictionary has this shape:\n",
    "\n",
    "'title': 'The article title',\n",
    "\n",
    "'content': 'The article content',\n",
    "\n",
    "'category': 'business' # for example\n",
    "\n",
    "Hints:\n",
    "- Start by inspecting the website in your browser. Figure out which elements will be useful.\n",
    "- Start by creating a function that handles a single article and produces a dictionary like the one above.\n",
    "- Next create a function that will find all the articles on a single page and call the function you created in the last step for every article on the page.\n",
    "- Now create a function that will use the previous two functions to scrape the articles from all the pages that you need, and do any additional processing that needs to be done."
   ]
  },
  {
   "cell_type": "markdown",
   "id": "5aa8bdf4-2379-443f-915b-8e2ffd66a78c",
   "metadata": {},
   "source": [
    "#### Inshorts"
   ]
  },
  {
   "cell_type": "code",
   "execution_count": 7,
   "id": "d0985295-64e1-4619-972d-953acfae062b",
   "metadata": {
    "tags": []
   },
   "outputs": [],
   "source": [
    "base_url = 'https://inshorts.com/en/read/'\n",
    "categories = [\n",
    "    'business',\n",
    "    'entertainment',\n",
    "    'technology',\n",
    "    'sports'\n",
    "]"
   ]
  },
  {
   "cell_type": "code",
   "execution_count": 8,
   "id": "0dada931-6641-4c22-8d36-cd0ff7e49502",
   "metadata": {
    "tags": []
   },
   "outputs": [
    {
     "name": "stdout",
     "output_type": "stream",
     "text": [
      "<Response [200]>\n",
      "<Response [200]>\n",
      "<Response [200]>\n",
      "<Response [200]>\n"
     ]
    },
    {
     "data": {
      "text/plain": [
       "[None, None, None, None]"
      ]
     },
     "execution_count": 8,
     "metadata": {},
     "output_type": "execute_result"
    }
   ],
   "source": [
    "[print(requests.get(base_url + cat)) for cat in categories]"
   ]
  },
  {
   "cell_type": "code",
   "execution_count": 9,
   "id": "95c89852-7f35-415f-a0a6-d2946ea1c403",
   "metadata": {
    "tags": []
   },
   "outputs": [],
   "source": [
    "test_soup = BeautifulSoup(requests.get(base_url+categories[0]).text, 'html.parser')"
   ]
  },
  {
   "cell_type": "code",
   "execution_count": 10,
   "id": "b97dbf7a-024a-4d92-abcf-ae121942362b",
   "metadata": {
    "tags": []
   },
   "outputs": [
    {
     "data": {
      "text/plain": [
       "'Victoria\\'s Secret ex-CEO Leslie Wexner\\'s foundation announced it\\'s cutting its \"financial and programmatic\" ties with Harvard. \"We are stunned and sickened at the dismal failure of Harvard\\'s leadership to take a clear...stand against the barbaric murders of innocent Israeli civilians,\" The Wexner Foundation said. Harvard\\'s leaders were \"tiptoeing\" over Hamas\\' attacks against Israel, it added.'"
      ]
     },
     "execution_count": 10,
     "metadata": {},
     "output_type": "execute_result"
    }
   ],
   "source": [
    "test_soup.find_all('div', itemprop='articleBody')[0].text"
   ]
  },
  {
   "cell_type": "code",
   "execution_count": 11,
   "id": "21b3f7c5-7bea-49d1-ba68-6652a50815f5",
   "metadata": {
    "tags": []
   },
   "outputs": [
    {
     "data": {
      "text/plain": [
       "\"Victoria's Secret ex-CEO cuts Harvard ties for not backing Israel\""
      ]
     },
     "execution_count": 11,
     "metadata": {},
     "output_type": "execute_result"
    }
   ],
   "source": [
    "test_soup.find_all('span', itemprop='headline')[0].text"
   ]
  },
  {
   "cell_type": "code",
   "execution_count": 6,
   "id": "545221ef-8755-4d0e-9c60-3fc2bf5c8d58",
   "metadata": {
    "tags": []
   },
   "outputs": [],
   "source": [
    "def get_news_article():\n",
    "    base_url = 'https://inshorts.com/en/read/'\n",
    "    categories = [\n",
    "    'business',\n",
    "    'entertainment',\n",
    "    'technology',\n",
    "    'sports'\n",
    "    ]\n",
    "    all_articles = pd.DataFrame(columns = ['title', 'body', 'category'])\n",
    "    for category in categories:\n",
    "        category_url = base_url + category\n",
    "        cont = requests.get(category_url).text\n",
    "        soup = BeautifulSoup(cont, 'html.parser')\n",
    "        title = [element.text for element in soup.find_all('span', itemprop='headline')]\n",
    "        body = [element.text for element in soup.find_all('div', itemprop='articleBody')]\n",
    "        cat = pd.DataFrame({'title': title, 'body': body, 'category': category})\n",
    "        all_articles =pd.concat([all_articles, cat], axis = 0, ignore_index=True)\n",
    "    return all_articles"
   ]
  },
  {
   "cell_type": "code",
   "execution_count": 7,
   "id": "78494e46-3ec7-4a21-99f3-dc16215d476f",
   "metadata": {
    "tags": []
   },
   "outputs": [
    {
     "data": {
      "text/html": [
       "<div>\n",
       "<style scoped>\n",
       "    .dataframe tbody tr th:only-of-type {\n",
       "        vertical-align: middle;\n",
       "    }\n",
       "\n",
       "    .dataframe tbody tr th {\n",
       "        vertical-align: top;\n",
       "    }\n",
       "\n",
       "    .dataframe thead th {\n",
       "        text-align: right;\n",
       "    }\n",
       "</style>\n",
       "<table border=\"1\" class=\"dataframe\">\n",
       "  <thead>\n",
       "    <tr style=\"text-align: right;\">\n",
       "      <th></th>\n",
       "      <th>title</th>\n",
       "      <th>body</th>\n",
       "      <th>category</th>\n",
       "    </tr>\n",
       "  </thead>\n",
       "  <tbody>\n",
       "    <tr>\n",
       "      <th>0</th>\n",
       "      <td>Victoria's Secret ex-CEO cuts Harvard ties for...</td>\n",
       "      <td>Victoria's Secret ex-CEO Leslie Wexner's found...</td>\n",
       "      <td>business</td>\n",
       "    </tr>\n",
       "    <tr>\n",
       "      <th>1</th>\n",
       "      <td>HDFC Bank's Vigil Aunty ad gets criticism for ...</td>\n",
       "      <td>HDFC Bank's latest advertisement featuring Vig...</td>\n",
       "      <td>business</td>\n",
       "    </tr>\n",
       "    <tr>\n",
       "      <th>2</th>\n",
       "      <td>IMEC big opportunity for investors to partner ...</td>\n",
       "      <td>PM Narendra Modi at the Global Maritime India ...</td>\n",
       "      <td>business</td>\n",
       "    </tr>\n",
       "    <tr>\n",
       "      <th>3</th>\n",
       "      <td>ICICI Bank fined ₹12 crore, Kotak ₹3.95 crore ...</td>\n",
       "      <td>The Reserve Bank of India (RBI) has imposed a ...</td>\n",
       "      <td>business</td>\n",
       "    </tr>\n",
       "    <tr>\n",
       "      <th>4</th>\n",
       "      <td>35 lakh weddings in 23 days to generate record...</td>\n",
       "      <td>Traders' body Confederation of All India Trade...</td>\n",
       "      <td>business</td>\n",
       "    </tr>\n",
       "    <tr>\n",
       "      <th>5</th>\n",
       "      <td>Mahadev app key accused arrives from Dubai, he...</td>\n",
       "      <td>Mrugank Mishra, a key accused in Mahadev betti...</td>\n",
       "      <td>business</td>\n",
       "    </tr>\n",
       "    <tr>\n",
       "      <th>6</th>\n",
       "      <td>Bankman-Fried's trial delay request over Adder...</td>\n",
       "      <td>A US court denied FTX Founder Sam Bankman-Frie...</td>\n",
       "      <td>business</td>\n",
       "    </tr>\n",
       "    <tr>\n",
       "      <th>7</th>\n",
       "      <td>Indian wheat prices hit 8-month high</td>\n",
       "      <td>Prices of wheat in India have reached an eight...</td>\n",
       "      <td>business</td>\n",
       "    </tr>\n",
       "    <tr>\n",
       "      <th>8</th>\n",
       "      <td>Dabur gets ₹321 crore GST demand notice</td>\n",
       "      <td>Dabur India has received a notice to pay Goods...</td>\n",
       "      <td>business</td>\n",
       "    </tr>\n",
       "    <tr>\n",
       "      <th>9</th>\n",
       "      <td>'Kill list' of LinkedIn staff being fired was ...</td>\n",
       "      <td>A list with names of about 500 employees was l...</td>\n",
       "      <td>business</td>\n",
       "    </tr>\n",
       "    <tr>\n",
       "      <th>10</th>\n",
       "      <td>Planned to make 'Jab...' with Bobby, 'Highway'...</td>\n",
       "      <td>Filmmaker Imtiaz Ali revealed that he was plan...</td>\n",
       "      <td>entertainment</td>\n",
       "    </tr>\n",
       "    <tr>\n",
       "      <th>11</th>\n",
       "      <td>Ranbir asks photographers to be careful as the...</td>\n",
       "      <td>Veteran actress Waheeda Rehman was honoured wi...</td>\n",
       "      <td>entertainment</td>\n",
       "    </tr>\n",
       "    <tr>\n",
       "      <th>12</th>\n",
       "      <td>Don't break your bank: Zeenat to youngsters on...</td>\n",
       "      <td>Actress Zeenat Aman took to Instagram to share...</td>\n",
       "      <td>entertainment</td>\n",
       "    </tr>\n",
       "    <tr>\n",
       "      <th>13</th>\n",
       "      <td>'Kabhi Khushi...' had really bad reviews, I wa...</td>\n",
       "      <td>Filmmaker Karan Johar said that he was \"very d...</td>\n",
       "      <td>entertainment</td>\n",
       "    </tr>\n",
       "    <tr>\n",
       "      <th>14</th>\n",
       "      <td>Emotional moment: Sandeepa on visiting Kashmir...</td>\n",
       "      <td>Actress Sandeepa Dhar, who was just two when h...</td>\n",
       "      <td>entertainment</td>\n",
       "    </tr>\n",
       "    <tr>\n",
       "      <th>15</th>\n",
       "      <td>Won't work with Sivakarthikeyan again, he betr...</td>\n",
       "      <td>Music composer D Imman said that he will never...</td>\n",
       "      <td>entertainment</td>\n",
       "    </tr>\n",
       "    <tr>\n",
       "      <th>16</th>\n",
       "      <td>What a shame, I'm going to erase today: Direct...</td>\n",
       "      <td>Filmmaker and gay rights activist Onir, expres...</td>\n",
       "      <td>entertainment</td>\n",
       "    </tr>\n",
       "    <tr>\n",
       "      <th>17</th>\n",
       "      <td>Kriti Sanon, Allu Arjun's selfie in 'Pushpa' p...</td>\n",
       "      <td>Kriti Sanon received the Best Actress award at...</td>\n",
       "      <td>entertainment</td>\n",
       "    </tr>\n",
       "    <tr>\n",
       "      <th>18</th>\n",
       "      <td>Taylor Swift's Eras tour security guard joins ...</td>\n",
       "      <td>A security guard who provided protection to si...</td>\n",
       "      <td>entertainment</td>\n",
       "    </tr>\n",
       "    <tr>\n",
       "      <th>19</th>\n",
       "      <td>Pics show Alia, Ranbir, Kriti, Allu Arjun inte...</td>\n",
       "      <td>The 69th National Film Awards ceremony was hel...</td>\n",
       "      <td>entertainment</td>\n",
       "    </tr>\n",
       "    <tr>\n",
       "      <th>20</th>\n",
       "      <td>Palestinian, Arab, Muslim Googlers deeply affe...</td>\n",
       "      <td>Google CEO Sundar Pichai in an e-mail to emplo...</td>\n",
       "      <td>technology</td>\n",
       "    </tr>\n",
       "    <tr>\n",
       "      <th>21</th>\n",
       "      <td>Russia fines Zoom $1.18mn for working without ...</td>\n",
       "      <td>Russia has imposed a $1.18 million fine on Zoo...</td>\n",
       "      <td>technology</td>\n",
       "    </tr>\n",
       "    <tr>\n",
       "      <th>22</th>\n",
       "      <td>US restricts sale of more advanced AI chips to...</td>\n",
       "      <td>The US on Tuesday unveiled plans to restrict t...</td>\n",
       "      <td>technology</td>\n",
       "    </tr>\n",
       "    <tr>\n",
       "      <th>23</th>\n",
       "      <td>Apple unveils new Pencil with USB-C port costi...</td>\n",
       "      <td>Apple on Tuesday unveiled the new Apple Pencil...</td>\n",
       "      <td>technology</td>\n",
       "    </tr>\n",
       "    <tr>\n",
       "      <th>24</th>\n",
       "      <td>Apple's cheaper headset to have less sensors, ...</td>\n",
       "      <td>Apple is reportedly planning to use fewer exte...</td>\n",
       "      <td>technology</td>\n",
       "    </tr>\n",
       "    <tr>\n",
       "      <th>25</th>\n",
       "      <td>Dubai Police unveils driverless, AI-powered pa...</td>\n",
       "      <td>Dubai Police has unveiled a \"self-driving\" pat...</td>\n",
       "      <td>technology</td>\n",
       "    </tr>\n",
       "    <tr>\n",
       "      <th>26</th>\n",
       "      <td>Bankman-Fried's trial delay request over Adder...</td>\n",
       "      <td>A US court denied FTX Founder Sam Bankman-Frie...</td>\n",
       "      <td>technology</td>\n",
       "    </tr>\n",
       "    <tr>\n",
       "      <th>27</th>\n",
       "      <td>'Apple AirTag led to multiple murders,' claims...</td>\n",
       "      <td>Apple is facing a class action lawsuit in US t...</td>\n",
       "      <td>technology</td>\n",
       "    </tr>\n",
       "    <tr>\n",
       "      <th>28</th>\n",
       "      <td>'Kill list' of LinkedIn staff being fired was ...</td>\n",
       "      <td>A list with names of about 500 employees was l...</td>\n",
       "      <td>technology</td>\n",
       "    </tr>\n",
       "    <tr>\n",
       "      <th>29</th>\n",
       "      <td>Facebook, YouTube, Google suppress pro-Palesti...</td>\n",
       "      <td>Think tank Hampton Institute alleged that soci...</td>\n",
       "      <td>technology</td>\n",
       "    </tr>\n",
       "    <tr>\n",
       "      <th>30</th>\n",
       "      <td>Netherlands defeat South Africa in another ups...</td>\n",
       "      <td>Netherlands, the lowest-ranked team in the ong...</td>\n",
       "      <td>sports</td>\n",
       "    </tr>\n",
       "    <tr>\n",
       "      <th>31</th>\n",
       "      <td>People would tell my parents 'Don't allow her ...</td>\n",
       "      <td>Table tennis player Sutirtha Mukherjee, who al...</td>\n",
       "      <td>sports</td>\n",
       "    </tr>\n",
       "    <tr>\n",
       "      <th>32</th>\n",
       "      <td>Are Netherlands doing them in again: Harsha on...</td>\n",
       "      <td>Commentator Harsha Bhogle took to X to state t...</td>\n",
       "      <td>sports</td>\n",
       "    </tr>\n",
       "    <tr>\n",
       "      <th>33</th>\n",
       "      <td>Rishabh Pant shares video of him running on tr...</td>\n",
       "      <td>Wicketkeeper-batter Rishabh Pant, who is under...</td>\n",
       "      <td>sports</td>\n",
       "    </tr>\n",
       "    <tr>\n",
       "      <th>34</th>\n",
       "      <td>Sri Lanka Cricket lifts ban on Gunathilaka aft...</td>\n",
       "      <td>Sri Lanka Cricket (SLC) has lifted ban on Danu...</td>\n",
       "      <td>sports</td>\n",
       "    </tr>\n",
       "    <tr>\n",
       "      <th>35</th>\n",
       "      <td>Exceptional bowling: Uthappa as SA lose 4 batt...</td>\n",
       "      <td>Reacting to South Africa losing four batters w...</td>\n",
       "      <td>sports</td>\n",
       "    </tr>\n",
       "    <tr>\n",
       "      <th>36</th>\n",
       "      <td>PCB files complaint over crowd conduct against...</td>\n",
       "      <td>The PCB has filed a complaint regarding inappr...</td>\n",
       "      <td>sports</td>\n",
       "    </tr>\n",
       "    <tr>\n",
       "      <th>37</th>\n",
       "      <td>Game vs SA could be over before powerplay if E...</td>\n",
       "      <td>Former England batter Mark Butcher said Englan...</td>\n",
       "      <td>sports</td>\n",
       "    </tr>\n",
       "    <tr>\n",
       "      <th>38</th>\n",
       "      <td>I have never seen Rauf pick wickets like Bumra...</td>\n",
       "      <td>Ex-Pakistan captain Wasim Akram said he has ne...</td>\n",
       "      <td>sports</td>\n",
       "    </tr>\n",
       "    <tr>\n",
       "      <th>39</th>\n",
       "      <td>3 of Netherlands' cricketers playing against S...</td>\n",
       "      <td>Netherlands' Sybrand Engelbrecht, Colin Ackerm...</td>\n",
       "      <td>sports</td>\n",
       "    </tr>\n",
       "  </tbody>\n",
       "</table>\n",
       "</div>"
      ],
      "text/plain": [
       "                                                title  \\\n",
       "0   Victoria's Secret ex-CEO cuts Harvard ties for...   \n",
       "1   HDFC Bank's Vigil Aunty ad gets criticism for ...   \n",
       "2   IMEC big opportunity for investors to partner ...   \n",
       "3   ICICI Bank fined ₹12 crore, Kotak ₹3.95 crore ...   \n",
       "4   35 lakh weddings in 23 days to generate record...   \n",
       "5   Mahadev app key accused arrives from Dubai, he...   \n",
       "6   Bankman-Fried's trial delay request over Adder...   \n",
       "7                Indian wheat prices hit 8-month high   \n",
       "8             Dabur gets ₹321 crore GST demand notice   \n",
       "9   'Kill list' of LinkedIn staff being fired was ...   \n",
       "10  Planned to make 'Jab...' with Bobby, 'Highway'...   \n",
       "11  Ranbir asks photographers to be careful as the...   \n",
       "12  Don't break your bank: Zeenat to youngsters on...   \n",
       "13  'Kabhi Khushi...' had really bad reviews, I wa...   \n",
       "14  Emotional moment: Sandeepa on visiting Kashmir...   \n",
       "15  Won't work with Sivakarthikeyan again, he betr...   \n",
       "16  What a shame, I'm going to erase today: Direct...   \n",
       "17  Kriti Sanon, Allu Arjun's selfie in 'Pushpa' p...   \n",
       "18  Taylor Swift's Eras tour security guard joins ...   \n",
       "19  Pics show Alia, Ranbir, Kriti, Allu Arjun inte...   \n",
       "20  Palestinian, Arab, Muslim Googlers deeply affe...   \n",
       "21  Russia fines Zoom $1.18mn for working without ...   \n",
       "22  US restricts sale of more advanced AI chips to...   \n",
       "23  Apple unveils new Pencil with USB-C port costi...   \n",
       "24  Apple's cheaper headset to have less sensors, ...   \n",
       "25  Dubai Police unveils driverless, AI-powered pa...   \n",
       "26  Bankman-Fried's trial delay request over Adder...   \n",
       "27  'Apple AirTag led to multiple murders,' claims...   \n",
       "28  'Kill list' of LinkedIn staff being fired was ...   \n",
       "29  Facebook, YouTube, Google suppress pro-Palesti...   \n",
       "30  Netherlands defeat South Africa in another ups...   \n",
       "31  People would tell my parents 'Don't allow her ...   \n",
       "32  Are Netherlands doing them in again: Harsha on...   \n",
       "33  Rishabh Pant shares video of him running on tr...   \n",
       "34  Sri Lanka Cricket lifts ban on Gunathilaka aft...   \n",
       "35  Exceptional bowling: Uthappa as SA lose 4 batt...   \n",
       "36  PCB files complaint over crowd conduct against...   \n",
       "37  Game vs SA could be over before powerplay if E...   \n",
       "38  I have never seen Rauf pick wickets like Bumra...   \n",
       "39  3 of Netherlands' cricketers playing against S...   \n",
       "\n",
       "                                                 body       category  \n",
       "0   Victoria's Secret ex-CEO Leslie Wexner's found...       business  \n",
       "1   HDFC Bank's latest advertisement featuring Vig...       business  \n",
       "2   PM Narendra Modi at the Global Maritime India ...       business  \n",
       "3   The Reserve Bank of India (RBI) has imposed a ...       business  \n",
       "4   Traders' body Confederation of All India Trade...       business  \n",
       "5   Mrugank Mishra, a key accused in Mahadev betti...       business  \n",
       "6   A US court denied FTX Founder Sam Bankman-Frie...       business  \n",
       "7   Prices of wheat in India have reached an eight...       business  \n",
       "8   Dabur India has received a notice to pay Goods...       business  \n",
       "9   A list with names of about 500 employees was l...       business  \n",
       "10  Filmmaker Imtiaz Ali revealed that he was plan...  entertainment  \n",
       "11  Veteran actress Waheeda Rehman was honoured wi...  entertainment  \n",
       "12  Actress Zeenat Aman took to Instagram to share...  entertainment  \n",
       "13  Filmmaker Karan Johar said that he was \"very d...  entertainment  \n",
       "14  Actress Sandeepa Dhar, who was just two when h...  entertainment  \n",
       "15  Music composer D Imman said that he will never...  entertainment  \n",
       "16  Filmmaker and gay rights activist Onir, expres...  entertainment  \n",
       "17  Kriti Sanon received the Best Actress award at...  entertainment  \n",
       "18  A security guard who provided protection to si...  entertainment  \n",
       "19  The 69th National Film Awards ceremony was hel...  entertainment  \n",
       "20  Google CEO Sundar Pichai in an e-mail to emplo...     technology  \n",
       "21  Russia has imposed a $1.18 million fine on Zoo...     technology  \n",
       "22  The US on Tuesday unveiled plans to restrict t...     technology  \n",
       "23  Apple on Tuesday unveiled the new Apple Pencil...     technology  \n",
       "24  Apple is reportedly planning to use fewer exte...     technology  \n",
       "25  Dubai Police has unveiled a \"self-driving\" pat...     technology  \n",
       "26  A US court denied FTX Founder Sam Bankman-Frie...     technology  \n",
       "27  Apple is facing a class action lawsuit in US t...     technology  \n",
       "28  A list with names of about 500 employees was l...     technology  \n",
       "29  Think tank Hampton Institute alleged that soci...     technology  \n",
       "30  Netherlands, the lowest-ranked team in the ong...         sports  \n",
       "31  Table tennis player Sutirtha Mukherjee, who al...         sports  \n",
       "32  Commentator Harsha Bhogle took to X to state t...         sports  \n",
       "33  Wicketkeeper-batter Rishabh Pant, who is under...         sports  \n",
       "34  Sri Lanka Cricket (SLC) has lifted ban on Danu...         sports  \n",
       "35  Reacting to South Africa losing four batters w...         sports  \n",
       "36  The PCB has filed a complaint regarding inappr...         sports  \n",
       "37  Former England batter Mark Butcher said Englan...         sports  \n",
       "38  Ex-Pakistan captain Wasim Akram said he has ne...         sports  \n",
       "39  Netherlands' Sybrand Engelbrecht, Colin Ackerm...         sports  "
      ]
     },
     "execution_count": 7,
     "metadata": {},
     "output_type": "execute_result"
    }
   ],
   "source": [
    "news = get_news_article()\n",
    "news"
   ]
  },
  {
   "cell_type": "markdown",
   "id": "3650541e-647d-4eec-a753-a68ed060924f",
   "metadata": {},
   "source": [
    "## Bonus: cache the data\n",
    "\n",
    "Write your code such that the acquired data is saved locally in some form or fashion. Your functions that retrieve the data should prefer to read the local data instead of having to make all the requests everytime the function is called. Include a boolean flag in the functions to allow the data to be acquired \"fresh\" from the actual sources (re-writing your local cache)."
   ]
  }
 ],
 "metadata": {
  "kernelspec": {
   "display_name": "Python 3 (ipykernel)",
   "language": "python",
   "name": "python3"
  },
  "language_info": {
   "codemirror_mode": {
    "name": "ipython",
    "version": 3
   },
   "file_extension": ".py",
   "mimetype": "text/x-python",
   "name": "python",
   "nbconvert_exporter": "python",
   "pygments_lexer": "ipython3",
   "version": "3.11.3"
  }
 },
 "nbformat": 4,
 "nbformat_minor": 5
}
